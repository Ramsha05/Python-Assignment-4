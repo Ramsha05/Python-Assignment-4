{
 "cells": [
  {
   "cell_type": "code",
   "execution_count": 5,
   "id": "28fa2dcf",
   "metadata": {},
   "outputs": [
    {
     "name": "stdout",
     "output_type": "stream",
     "text": [
      "Enter first number: 5\n",
      "Enter second number: 12\n",
      "Enter Operator: *\n",
      "Your answer is:  60\n"
     ]
    }
   ],
   "source": [
    "#1. Make a calculator using Python with addition , subtraction , multiplication ,division and power.\n",
    "\n",
    "num1 = int(input(\"Enter first number: \"));\n",
    "num2 = int(input(\"Enter second number: \"));\n",
    "oper = input(\"Enter Operator: \");\n",
    "if (oper == '+'):\n",
    "    print(\"Your answer is: \",num1 + num2);\n",
    "elif (oper == '-'):\n",
    "    print(\"Your answer is: \",num1 - num2);\n",
    "elif (oper == '*'):\n",
    "    print(\"Your answer is: \",num1 * num2);\n",
    "elif (oper == '/'):\n",
    "    print(\"Your answer is: \",num1 / num2);\n",
    "elif (oper == '**'):\n",
    "    print(\"Your answer is: \",num1 ** num2);\n",
    "else:\n",
    "    print(\"Please Enter Correct Operator\");"
   ]
  },
  {
   "cell_type": "code",
   "execution_count": 18,
   "id": "8edc7f77",
   "metadata": {},
   "outputs": [
    {
     "name": "stdout",
     "output_type": "stream",
     "text": [
      "5\n",
      "10\n"
     ]
    }
   ],
   "source": [
    "#2. Write a program to check if there is any numeric value in list using for loop.\n",
    "\n",
    "list = [\"abc\", \"xyz\",5,\"ramsha\",10] \n",
    "for x in list: \n",
    "    if type(x) == int: \n",
    "        print(x);"
   ]
  },
  {
   "cell_type": "code",
   "execution_count": 6,
   "id": "ad79c2c3",
   "metadata": {},
   "outputs": [
    {
     "name": "stdout",
     "output_type": "stream",
     "text": [
      "{'name': 'Ramsha', 'LastName': 'Saeed', 'Age': '17'}\n"
     ]
    }
   ],
   "source": [
    "#3. Write a Python script to add a key to a dictionary.\n",
    "\n",
    "d = {'name':\"Ramsha\" , 'LastName':\"Saeed\"};\n",
    "d.update({'Age':\"17\"});\n",
    "print(d);"
   ]
  },
  {
   "cell_type": "code",
   "execution_count": 7,
   "id": "7b928c8d",
   "metadata": {},
   "outputs": [
    {
     "name": "stdout",
     "output_type": "stream",
     "text": [
      "100\n"
     ]
    }
   ],
   "source": [
    "#4. Write a Python program to sum all the numeric items in a dictionary.\n",
    "\n",
    "a = {'a':20 , 'b':50 , 'c':30};\n",
    "print(sum(a.values()));"
   ]
  },
  {
   "cell_type": "code",
   "execution_count": 19,
   "id": "07fba0f7",
   "metadata": {},
   "outputs": [
    {
     "name": "stdout",
     "output_type": "stream",
     "text": [
      "2\n",
      "3\n",
      "hello\n"
     ]
    }
   ],
   "source": [
    "#5. Write a program to identify duplicate values from list.\n",
    "\n",
    "lst=[\"ramsha\",3,4,5,\"hello\",2,2,7,3,9,\"hello\"];\n",
    "lst1=[];\n",
    "for i in lst:\n",
    "    if i not in lst1:\n",
    "        lst1.append(i);\n",
    "    else:  \n",
    "        print(i);"
   ]
  },
  {
   "cell_type": "code",
   "execution_count": 22,
   "id": "d401403a",
   "metadata": {},
   "outputs": [
    {
     "name": "stdout",
     "output_type": "stream",
     "text": [
      "8 Key is not exist in the dictionary\n"
     ]
    }
   ],
   "source": [
    "#6. Write a Python script to check if a given key already exists in a dictionary\n",
    "\n",
    "d = {1:'ramsha', 2:'saeed', 3: '30' , 4: '50', 5:'85'};\n",
    "def key(x):\n",
    "    if x in d:  \n",
    "        print(x,'Key is exist in the dictionary');\n",
    "    else:\n",
    "        print(x,'Key is not exist in the dictionary');\n",
    "key(8);"
   ]
  },
  {
   "cell_type": "code",
   "execution_count": null,
   "id": "5981e3d0",
   "metadata": {},
   "outputs": [],
   "source": []
  },
  {
   "cell_type": "code",
   "execution_count": null,
   "id": "2b1a0146",
   "metadata": {},
   "outputs": [],
   "source": []
  }
 ],
 "metadata": {
  "kernelspec": {
   "display_name": "Python 3",
   "language": "python",
   "name": "python3"
  },
  "language_info": {
   "codemirror_mode": {
    "name": "ipython",
    "version": 3
   },
   "file_extension": ".py",
   "mimetype": "text/x-python",
   "name": "python",
   "nbconvert_exporter": "python",
   "pygments_lexer": "ipython3",
   "version": "3.8.8"
  }
 },
 "nbformat": 4,
 "nbformat_minor": 5
}
